{
  "nbformat": 4,
  "nbformat_minor": 0,
  "metadata": {
    "colab": {
      "name": "Count_Words.ipynb",
      "provenance": [],
      "toc_visible": true,
      "authorship_tag": "ABX9TyPG+BPA2XpXom1RzxxPAzE7",
      "include_colab_link": true
    },
    "kernelspec": {
      "name": "python3",
      "display_name": "Python 3"
    }
  },
  "cells": [
    {
      "cell_type": "markdown",
      "metadata": {
        "id": "view-in-github",
        "colab_type": "text"
      },
      "source": [
        "<a href=\"https://colab.research.google.com/github/xojopi/ISOM730/blob/master/Count_Words.ipynb\" target=\"_parent\"><img src=\"https://colab.research.google.com/assets/colab-badge.svg\" alt=\"Open In Colab\"/></a>"
      ]
    },
    {
      "cell_type": "code",
      "metadata": {
        "id": "7Hfx-c6WeoY_",
        "colab_type": "code",
        "outputId": "a48b09ec-3cdd-4d04-9c86-a36c5b60f343",
        "colab": {
          "base_uri": "https://localhost:8080/",
          "height": 34
        }
      },
      "source": [
        "fhand=open('romeo.txt')\n",
        "counts={}\n",
        "for line in fhand:\n",
        "  words=line.split()\n",
        "  for word in words:\n",
        "    counts[word]=counts.get(word,0)+1\n",
        "\n",
        "#print(counts)\n",
        "\n",
        "lst=[]\n",
        "\n",
        "for k, v in counts.items():\n",
        "    lst.append((v,k))\n",
        "print(sorted(lst, reverse=True)[:10])"
      ],
      "execution_count": 17,
      "outputs": [
        {
          "output_type": "stream",
          "text": [
            "[(3, 'the'), (3, 'is'), (3, 'and'), (2, 'sun'), (1, 'yonder'), (1, 'with'), (1, 'window'), (1, 'what'), (1, 'through'), (1, 'soft')]\n"
          ],
          "name": "stdout"
        }
      ]
    }
  ]
}